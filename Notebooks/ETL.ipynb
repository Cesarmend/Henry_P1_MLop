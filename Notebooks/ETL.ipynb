{
 "cells": [
  {
   "cell_type": "markdown",
   "metadata": {},
   "source": [
    "# LIBRERIAS Y DEPENDENCIAS"
   ]
  },
  {
   "cell_type": "code",
   "execution_count": 48,
   "metadata": {},
   "outputs": [],
   "source": [
    "import pandas as pd # --> PARA MANIPULAR, LIMPIAR Y ANALIZAR DATOS DE DIFERENTES FORMATIOS (csv,parquet, json...)\n",
    "import numpy as np # --> CALCULO NUMERICO EN MATRICES N-DIMENSIONALES\n",
    "import re # --> PERMITE BUSCAR Y MANIPULAR CADENAS DE TEXTO MEDIANTE PATRONES REGULARES\n",
    "import json # MANEJO DE DATOS EN FORMATO JSON\n"
   ]
  },
  {
   "cell_type": "markdown",
   "metadata": {},
   "source": [
    "# 1. PREPARACION DE DATOS (FASE ETL)\n",
    "\n",
    "##  1A. Manejo de datos del dataset movies"
   ]
  },
  {
   "cell_type": "code",
   "execution_count": 49,
   "metadata": {},
   "outputs": [
    {
     "name": "stderr",
     "output_type": "stream",
     "text": [
      "C:\\Users\\USER\\AppData\\Local\\Temp\\ipykernel_12644\\1585465743.py:2: DtypeWarning: Columns (10) have mixed types. Specify dtype option on import or set low_memory=False.\n",
      "  df = pd.read_csv('../Datasets/movies_dataset.csv')\n"
     ]
    }
   ],
   "source": [
    "# LECTURA DEL DATASET EN CUESTION\n",
    "df = pd.read_csv('../Datasets/movies_dataset.csv')\n"
   ]
  },
  {
   "cell_type": "code",
   "execution_count": 50,
   "metadata": {},
   "outputs": [
    {
     "data": {
      "text/html": [
       "<div>\n",
       "<style scoped>\n",
       "    .dataframe tbody tr th:only-of-type {\n",
       "        vertical-align: middle;\n",
       "    }\n",
       "\n",
       "    .dataframe tbody tr th {\n",
       "        vertical-align: top;\n",
       "    }\n",
       "\n",
       "    .dataframe thead th {\n",
       "        text-align: right;\n",
       "    }\n",
       "</style>\n",
       "<table border=\"1\" class=\"dataframe\">\n",
       "  <thead>\n",
       "    <tr style=\"text-align: right;\">\n",
       "      <th></th>\n",
       "      <th>adult</th>\n",
       "      <th>belongs_to_collection</th>\n",
       "      <th>budget</th>\n",
       "      <th>genres</th>\n",
       "      <th>homepage</th>\n",
       "      <th>id</th>\n",
       "      <th>imdb_id</th>\n",
       "      <th>original_language</th>\n",
       "      <th>original_title</th>\n",
       "      <th>overview</th>\n",
       "      <th>...</th>\n",
       "      <th>release_date</th>\n",
       "      <th>revenue</th>\n",
       "      <th>runtime</th>\n",
       "      <th>spoken_languages</th>\n",
       "      <th>status</th>\n",
       "      <th>tagline</th>\n",
       "      <th>title</th>\n",
       "      <th>video</th>\n",
       "      <th>vote_average</th>\n",
       "      <th>vote_count</th>\n",
       "    </tr>\n",
       "  </thead>\n",
       "  <tbody>\n",
       "    <tr>\n",
       "      <th>0</th>\n",
       "      <td>False</td>\n",
       "      <td>{'id': 10194, 'name': 'Toy Story Collection', ...</td>\n",
       "      <td>30000000</td>\n",
       "      <td>[{'id': 16, 'name': 'Animation'}, {'id': 35, '...</td>\n",
       "      <td>http://toystory.disney.com/toy-story</td>\n",
       "      <td>862</td>\n",
       "      <td>tt0114709</td>\n",
       "      <td>en</td>\n",
       "      <td>Toy Story</td>\n",
       "      <td>Led by Woody, Andy's toys live happily in his ...</td>\n",
       "      <td>...</td>\n",
       "      <td>1995-10-30</td>\n",
       "      <td>373554033.0</td>\n",
       "      <td>81.0</td>\n",
       "      <td>[{'iso_639_1': 'en', 'name': 'English'}]</td>\n",
       "      <td>Released</td>\n",
       "      <td>NaN</td>\n",
       "      <td>Toy Story</td>\n",
       "      <td>False</td>\n",
       "      <td>7.7</td>\n",
       "      <td>5415.0</td>\n",
       "    </tr>\n",
       "    <tr>\n",
       "      <th>1</th>\n",
       "      <td>False</td>\n",
       "      <td>NaN</td>\n",
       "      <td>65000000</td>\n",
       "      <td>[{'id': 12, 'name': 'Adventure'}, {'id': 14, '...</td>\n",
       "      <td>NaN</td>\n",
       "      <td>8844</td>\n",
       "      <td>tt0113497</td>\n",
       "      <td>en</td>\n",
       "      <td>Jumanji</td>\n",
       "      <td>When siblings Judy and Peter discover an encha...</td>\n",
       "      <td>...</td>\n",
       "      <td>1995-12-15</td>\n",
       "      <td>262797249.0</td>\n",
       "      <td>104.0</td>\n",
       "      <td>[{'iso_639_1': 'en', 'name': 'English'}, {'iso...</td>\n",
       "      <td>Released</td>\n",
       "      <td>Roll the dice and unleash the excitement!</td>\n",
       "      <td>Jumanji</td>\n",
       "      <td>False</td>\n",
       "      <td>6.9</td>\n",
       "      <td>2413.0</td>\n",
       "    </tr>\n",
       "    <tr>\n",
       "      <th>2</th>\n",
       "      <td>False</td>\n",
       "      <td>{'id': 119050, 'name': 'Grumpy Old Men Collect...</td>\n",
       "      <td>0</td>\n",
       "      <td>[{'id': 10749, 'name': 'Romance'}, {'id': 35, ...</td>\n",
       "      <td>NaN</td>\n",
       "      <td>15602</td>\n",
       "      <td>tt0113228</td>\n",
       "      <td>en</td>\n",
       "      <td>Grumpier Old Men</td>\n",
       "      <td>A family wedding reignites the ancient feud be...</td>\n",
       "      <td>...</td>\n",
       "      <td>1995-12-22</td>\n",
       "      <td>0.0</td>\n",
       "      <td>101.0</td>\n",
       "      <td>[{'iso_639_1': 'en', 'name': 'English'}]</td>\n",
       "      <td>Released</td>\n",
       "      <td>Still Yelling. Still Fighting. Still Ready for...</td>\n",
       "      <td>Grumpier Old Men</td>\n",
       "      <td>False</td>\n",
       "      <td>6.5</td>\n",
       "      <td>92.0</td>\n",
       "    </tr>\n",
       "    <tr>\n",
       "      <th>3</th>\n",
       "      <td>False</td>\n",
       "      <td>NaN</td>\n",
       "      <td>16000000</td>\n",
       "      <td>[{'id': 35, 'name': 'Comedy'}, {'id': 18, 'nam...</td>\n",
       "      <td>NaN</td>\n",
       "      <td>31357</td>\n",
       "      <td>tt0114885</td>\n",
       "      <td>en</td>\n",
       "      <td>Waiting to Exhale</td>\n",
       "      <td>Cheated on, mistreated and stepped on, the wom...</td>\n",
       "      <td>...</td>\n",
       "      <td>1995-12-22</td>\n",
       "      <td>81452156.0</td>\n",
       "      <td>127.0</td>\n",
       "      <td>[{'iso_639_1': 'en', 'name': 'English'}]</td>\n",
       "      <td>Released</td>\n",
       "      <td>Friends are the people who let you be yourself...</td>\n",
       "      <td>Waiting to Exhale</td>\n",
       "      <td>False</td>\n",
       "      <td>6.1</td>\n",
       "      <td>34.0</td>\n",
       "    </tr>\n",
       "    <tr>\n",
       "      <th>4</th>\n",
       "      <td>False</td>\n",
       "      <td>{'id': 96871, 'name': 'Father of the Bride Col...</td>\n",
       "      <td>0</td>\n",
       "      <td>[{'id': 35, 'name': 'Comedy'}]</td>\n",
       "      <td>NaN</td>\n",
       "      <td>11862</td>\n",
       "      <td>tt0113041</td>\n",
       "      <td>en</td>\n",
       "      <td>Father of the Bride Part II</td>\n",
       "      <td>Just when George Banks has recovered from his ...</td>\n",
       "      <td>...</td>\n",
       "      <td>1995-02-10</td>\n",
       "      <td>76578911.0</td>\n",
       "      <td>106.0</td>\n",
       "      <td>[{'iso_639_1': 'en', 'name': 'English'}]</td>\n",
       "      <td>Released</td>\n",
       "      <td>Just When His World Is Back To Normal... He's ...</td>\n",
       "      <td>Father of the Bride Part II</td>\n",
       "      <td>False</td>\n",
       "      <td>5.7</td>\n",
       "      <td>173.0</td>\n",
       "    </tr>\n",
       "  </tbody>\n",
       "</table>\n",
       "<p>5 rows × 24 columns</p>\n",
       "</div>"
      ],
      "text/plain": [
       "   adult                              belongs_to_collection    budget  \\\n",
       "0  False  {'id': 10194, 'name': 'Toy Story Collection', ...  30000000   \n",
       "1  False                                                NaN  65000000   \n",
       "2  False  {'id': 119050, 'name': 'Grumpy Old Men Collect...         0   \n",
       "3  False                                                NaN  16000000   \n",
       "4  False  {'id': 96871, 'name': 'Father of the Bride Col...         0   \n",
       "\n",
       "                                              genres  \\\n",
       "0  [{'id': 16, 'name': 'Animation'}, {'id': 35, '...   \n",
       "1  [{'id': 12, 'name': 'Adventure'}, {'id': 14, '...   \n",
       "2  [{'id': 10749, 'name': 'Romance'}, {'id': 35, ...   \n",
       "3  [{'id': 35, 'name': 'Comedy'}, {'id': 18, 'nam...   \n",
       "4                     [{'id': 35, 'name': 'Comedy'}]   \n",
       "\n",
       "                               homepage     id    imdb_id original_language  \\\n",
       "0  http://toystory.disney.com/toy-story    862  tt0114709                en   \n",
       "1                                   NaN   8844  tt0113497                en   \n",
       "2                                   NaN  15602  tt0113228                en   \n",
       "3                                   NaN  31357  tt0114885                en   \n",
       "4                                   NaN  11862  tt0113041                en   \n",
       "\n",
       "                original_title  \\\n",
       "0                    Toy Story   \n",
       "1                      Jumanji   \n",
       "2             Grumpier Old Men   \n",
       "3            Waiting to Exhale   \n",
       "4  Father of the Bride Part II   \n",
       "\n",
       "                                            overview  ... release_date  \\\n",
       "0  Led by Woody, Andy's toys live happily in his ...  ...   1995-10-30   \n",
       "1  When siblings Judy and Peter discover an encha...  ...   1995-12-15   \n",
       "2  A family wedding reignites the ancient feud be...  ...   1995-12-22   \n",
       "3  Cheated on, mistreated and stepped on, the wom...  ...   1995-12-22   \n",
       "4  Just when George Banks has recovered from his ...  ...   1995-02-10   \n",
       "\n",
       "       revenue runtime                                   spoken_languages  \\\n",
       "0  373554033.0    81.0           [{'iso_639_1': 'en', 'name': 'English'}]   \n",
       "1  262797249.0   104.0  [{'iso_639_1': 'en', 'name': 'English'}, {'iso...   \n",
       "2          0.0   101.0           [{'iso_639_1': 'en', 'name': 'English'}]   \n",
       "3   81452156.0   127.0           [{'iso_639_1': 'en', 'name': 'English'}]   \n",
       "4   76578911.0   106.0           [{'iso_639_1': 'en', 'name': 'English'}]   \n",
       "\n",
       "     status                                            tagline  \\\n",
       "0  Released                                                NaN   \n",
       "1  Released          Roll the dice and unleash the excitement!   \n",
       "2  Released  Still Yelling. Still Fighting. Still Ready for...   \n",
       "3  Released  Friends are the people who let you be yourself...   \n",
       "4  Released  Just When His World Is Back To Normal... He's ...   \n",
       "\n",
       "                         title  video vote_average vote_count  \n",
       "0                    Toy Story  False          7.7     5415.0  \n",
       "1                      Jumanji  False          6.9     2413.0  \n",
       "2             Grumpier Old Men  False          6.5       92.0  \n",
       "3            Waiting to Exhale  False          6.1       34.0  \n",
       "4  Father of the Bride Part II  False          5.7      173.0  \n",
       "\n",
       "[5 rows x 24 columns]"
      ]
     },
     "execution_count": 50,
     "metadata": {},
     "output_type": "execute_result"
    }
   ],
   "source": [
    "df.head(5)"
   ]
  },
  {
   "cell_type": "code",
   "execution_count": 51,
   "metadata": {},
   "outputs": [
    {
     "data": {
      "text/plain": [
       "(45466, 24)"
      ]
     },
     "execution_count": 51,
     "metadata": {},
     "output_type": "execute_result"
    }
   ],
   "source": [
    "df.shape"
   ]
  },
  {
   "cell_type": "markdown",
   "metadata": {},
   "source": [
    "## - Los valores nulos de los campos revenue, budget deben ser rellenados por el número 0. FUNCION para verificar que cada dato en la columna sea un numero, sino conversion de Nan a 0"
   ]
  },
  {
   "cell_type": "code",
   "execution_count": 52,
   "metadata": {},
   "outputs": [],
   "source": [
    "# Funcion para rellenar Nulos y '' a 0 en ambas columnas\n",
    "def clean_column(df, column_name):\n",
    "    #remplazar '' strings a Nan, si hay\n",
    "    df[column_name] = df[column_name].replace('', float('nan'))\n",
    "\n",
    "    #valores no numericos a Nan\n",
    "    df[column_name] = pd.to_numeric(df[column_name], errors='coerce')\n",
    "\n",
    "    # remplazar NaN o valores nulos a 0\n",
    "    df[column_name] = df[column_name].fillna(0)\n",
    "\n",
    "    return df"
   ]
  },
  {
   "cell_type": "code",
   "execution_count": 53,
   "metadata": {},
   "outputs": [],
   "source": [
    "# for loop para aplicar la funcion de limpieza en las columnas budget \n",
    "columns_to_clean = ['budget', 'revenue']\n",
    "for column in columns_to_clean:\n",
    "    df = clean_column(df, column)"
   ]
  },
  {
   "cell_type": "markdown",
   "metadata": {},
   "source": [
    "## - Crear la columna retorno de inversión, llamada return con los campos revenue y budget dividiendo estas dos últimas revenue / budget. En caso que no haya datos disponibles para calcularlo, deberá tomar el valor 0"
   ]
  },
  {
   "cell_type": "code",
   "execution_count": 54,
   "metadata": {},
   "outputs": [],
   "source": [
    "# Division de revenue / budget para columna return, 0 si denominador es 0\n",
    "df['return'] = np.where(df['budget'] != 0, df['revenue'] / df['budget'], 0)"
   ]
  },
  {
   "cell_type": "code",
   "execution_count": 55,
   "metadata": {},
   "outputs": [
    {
     "name": "stdout",
     "output_type": "stream",
     "text": [
      "return     float64\n",
      "budget     float64\n",
      "revenue    float64\n",
      "dtype: object\n"
     ]
    }
   ],
   "source": [
    "# Tipo de variables\n",
    "columns_to_check = ['return', 'budget', 'revenue']\n",
    "selected_dtypes = df[columns_to_check].dtypes\n",
    "print(selected_dtypes)\n"
   ]
  },
  {
   "cell_type": "code",
   "execution_count": 56,
   "metadata": {},
   "outputs": [
    {
     "data": {
      "text/plain": [
       "(45466, 25)"
      ]
     },
     "execution_count": 56,
     "metadata": {},
     "output_type": "execute_result"
    }
   ],
   "source": [
    "df.shape"
   ]
  },
  {
   "cell_type": "markdown",
   "metadata": {},
   "source": [
    "## - Los valores nulos del campo release date deben eliminarse"
   ]
  },
  {
   "cell_type": "code",
   "execution_count": 57,
   "metadata": {},
   "outputs": [],
   "source": [
    "# Eliminacion de nulos a partir de columna release date\n",
    "df = df.dropna(subset=['release_date'])"
   ]
  },
  {
   "cell_type": "code",
   "execution_count": 58,
   "metadata": {},
   "outputs": [
    {
     "data": {
      "text/plain": [
       "0"
      ]
     },
     "execution_count": 58,
     "metadata": {},
     "output_type": "execute_result"
    }
   ],
   "source": [
    "# Conteo total de nulos\n",
    "df['release_date'].isna().sum()"
   ]
  },
  {
   "cell_type": "code",
   "execution_count": 59,
   "metadata": {},
   "outputs": [
    {
     "name": "stdout",
     "output_type": "stream",
     "text": [
      "datetime64[ns]\n"
     ]
    }
   ],
   "source": [
    "# Conversion a datetime\n",
    "df['release_date'] = pd.to_datetime(df['release_date'], errors='coerce')\n",
    "\n",
    "tipo_release= df['release_date'].dtype\n",
    "print(tipo_release)"
   ]
  },
  {
   "cell_type": "code",
   "execution_count": 60,
   "metadata": {},
   "outputs": [
    {
     "data": {
      "text/plain": [
       "(45379, 25)"
      ]
     },
     "execution_count": 60,
     "metadata": {},
     "output_type": "execute_result"
    }
   ],
   "source": [
    "df.shape"
   ]
  },
  {
   "cell_type": "markdown",
   "metadata": {},
   "source": [
    "## - De haber fechas, deberán tener el formato AAAA-mm-dd, además deberán crear la columna release_year donde extraerán el año de la fecha de estreno."
   ]
  },
  {
   "cell_type": "code",
   "execution_count": 61,
   "metadata": {},
   "outputs": [],
   "source": [
    "# Cambio de formato a año-mes-dia\n",
    "df['release_date'] = pd.to_datetime(df['release_date'], format='%Y-%m-%d', errors='coerce')"
   ]
  },
  {
   "cell_type": "code",
   "execution_count": 62,
   "metadata": {},
   "outputs": [
    {
     "data": {
      "text/plain": [
       "3"
      ]
     },
     "execution_count": 62,
     "metadata": {},
     "output_type": "execute_result"
    }
   ],
   "source": [
    "# Verificar si quedo algun nulo\n",
    "df['release_date'].isna().sum()"
   ]
  },
  {
   "cell_type": "code",
   "execution_count": 63,
   "metadata": {},
   "outputs": [
    {
     "data": {
      "text/plain": [
       "0"
      ]
     },
     "execution_count": 63,
     "metadata": {},
     "output_type": "execute_result"
    }
   ],
   "source": [
    "# Eliminacion de los 3 nulos resultantes\n",
    "df = df.dropna(subset=['release_date'])\n",
    "df['release_date'].isna().sum()"
   ]
  },
  {
   "cell_type": "code",
   "execution_count": 64,
   "metadata": {},
   "outputs": [],
   "source": [
    "# Creacion de columna Año de estreno \n",
    "df['release_year'] = df['release_date'].dt.year"
   ]
  },
  {
   "cell_type": "markdown",
   "metadata": {},
   "source": [
    "## - Eliminar las columnas que no serán utilizadas, video, imdb_id, adult, original_title, poster_path y homepage."
   ]
  },
  {
   "cell_type": "code",
   "execution_count": 65,
   "metadata": {},
   "outputs": [],
   "source": [
    "# Eliminacion de las columnas indicadas en el enunciado\n",
    "df=df.drop(columns=['video', 'imdb_id', 'adult', 'original_title', 'poster_path', 'homepage','original_language'])"
   ]
  },
  {
   "cell_type": "code",
   "execution_count": 66,
   "metadata": {},
   "outputs": [
    {
     "data": {
      "text/html": [
       "<div>\n",
       "<style scoped>\n",
       "    .dataframe tbody tr th:only-of-type {\n",
       "        vertical-align: middle;\n",
       "    }\n",
       "\n",
       "    .dataframe tbody tr th {\n",
       "        vertical-align: top;\n",
       "    }\n",
       "\n",
       "    .dataframe thead th {\n",
       "        text-align: right;\n",
       "    }\n",
       "</style>\n",
       "<table border=\"1\" class=\"dataframe\">\n",
       "  <thead>\n",
       "    <tr style=\"text-align: right;\">\n",
       "      <th></th>\n",
       "      <th>belongs_to_collection</th>\n",
       "      <th>budget</th>\n",
       "      <th>genres</th>\n",
       "      <th>id</th>\n",
       "      <th>overview</th>\n",
       "      <th>popularity</th>\n",
       "      <th>production_companies</th>\n",
       "      <th>production_countries</th>\n",
       "      <th>release_date</th>\n",
       "      <th>revenue</th>\n",
       "      <th>runtime</th>\n",
       "      <th>spoken_languages</th>\n",
       "      <th>status</th>\n",
       "      <th>tagline</th>\n",
       "      <th>title</th>\n",
       "      <th>vote_average</th>\n",
       "      <th>vote_count</th>\n",
       "      <th>return</th>\n",
       "      <th>release_year</th>\n",
       "    </tr>\n",
       "  </thead>\n",
       "  <tbody>\n",
       "    <tr>\n",
       "      <th>0</th>\n",
       "      <td>{'id': 10194, 'name': 'Toy Story Collection', ...</td>\n",
       "      <td>30000000.0</td>\n",
       "      <td>[{'id': 16, 'name': 'Animation'}, {'id': 35, '...</td>\n",
       "      <td>862</td>\n",
       "      <td>Led by Woody, Andy's toys live happily in his ...</td>\n",
       "      <td>21.946943</td>\n",
       "      <td>[{'name': 'Pixar Animation Studios', 'id': 3}]</td>\n",
       "      <td>[{'iso_3166_1': 'US', 'name': 'United States o...</td>\n",
       "      <td>1995-10-30</td>\n",
       "      <td>373554033.0</td>\n",
       "      <td>81.0</td>\n",
       "      <td>[{'iso_639_1': 'en', 'name': 'English'}]</td>\n",
       "      <td>Released</td>\n",
       "      <td>NaN</td>\n",
       "      <td>Toy Story</td>\n",
       "      <td>7.7</td>\n",
       "      <td>5415.0</td>\n",
       "      <td>12.451801</td>\n",
       "      <td>1995</td>\n",
       "    </tr>\n",
       "    <tr>\n",
       "      <th>1</th>\n",
       "      <td>NaN</td>\n",
       "      <td>65000000.0</td>\n",
       "      <td>[{'id': 12, 'name': 'Adventure'}, {'id': 14, '...</td>\n",
       "      <td>8844</td>\n",
       "      <td>When siblings Judy and Peter discover an encha...</td>\n",
       "      <td>17.015539</td>\n",
       "      <td>[{'name': 'TriStar Pictures', 'id': 559}, {'na...</td>\n",
       "      <td>[{'iso_3166_1': 'US', 'name': 'United States o...</td>\n",
       "      <td>1995-12-15</td>\n",
       "      <td>262797249.0</td>\n",
       "      <td>104.0</td>\n",
       "      <td>[{'iso_639_1': 'en', 'name': 'English'}, {'iso...</td>\n",
       "      <td>Released</td>\n",
       "      <td>Roll the dice and unleash the excitement!</td>\n",
       "      <td>Jumanji</td>\n",
       "      <td>6.9</td>\n",
       "      <td>2413.0</td>\n",
       "      <td>4.043035</td>\n",
       "      <td>1995</td>\n",
       "    </tr>\n",
       "    <tr>\n",
       "      <th>2</th>\n",
       "      <td>{'id': 119050, 'name': 'Grumpy Old Men Collect...</td>\n",
       "      <td>0.0</td>\n",
       "      <td>[{'id': 10749, 'name': 'Romance'}, {'id': 35, ...</td>\n",
       "      <td>15602</td>\n",
       "      <td>A family wedding reignites the ancient feud be...</td>\n",
       "      <td>11.7129</td>\n",
       "      <td>[{'name': 'Warner Bros.', 'id': 6194}, {'name'...</td>\n",
       "      <td>[{'iso_3166_1': 'US', 'name': 'United States o...</td>\n",
       "      <td>1995-12-22</td>\n",
       "      <td>0.0</td>\n",
       "      <td>101.0</td>\n",
       "      <td>[{'iso_639_1': 'en', 'name': 'English'}]</td>\n",
       "      <td>Released</td>\n",
       "      <td>Still Yelling. Still Fighting. Still Ready for...</td>\n",
       "      <td>Grumpier Old Men</td>\n",
       "      <td>6.5</td>\n",
       "      <td>92.0</td>\n",
       "      <td>0.000000</td>\n",
       "      <td>1995</td>\n",
       "    </tr>\n",
       "    <tr>\n",
       "      <th>3</th>\n",
       "      <td>NaN</td>\n",
       "      <td>16000000.0</td>\n",
       "      <td>[{'id': 35, 'name': 'Comedy'}, {'id': 18, 'nam...</td>\n",
       "      <td>31357</td>\n",
       "      <td>Cheated on, mistreated and stepped on, the wom...</td>\n",
       "      <td>3.859495</td>\n",
       "      <td>[{'name': 'Twentieth Century Fox Film Corporat...</td>\n",
       "      <td>[{'iso_3166_1': 'US', 'name': 'United States o...</td>\n",
       "      <td>1995-12-22</td>\n",
       "      <td>81452156.0</td>\n",
       "      <td>127.0</td>\n",
       "      <td>[{'iso_639_1': 'en', 'name': 'English'}]</td>\n",
       "      <td>Released</td>\n",
       "      <td>Friends are the people who let you be yourself...</td>\n",
       "      <td>Waiting to Exhale</td>\n",
       "      <td>6.1</td>\n",
       "      <td>34.0</td>\n",
       "      <td>5.090760</td>\n",
       "      <td>1995</td>\n",
       "    </tr>\n",
       "    <tr>\n",
       "      <th>4</th>\n",
       "      <td>{'id': 96871, 'name': 'Father of the Bride Col...</td>\n",
       "      <td>0.0</td>\n",
       "      <td>[{'id': 35, 'name': 'Comedy'}]</td>\n",
       "      <td>11862</td>\n",
       "      <td>Just when George Banks has recovered from his ...</td>\n",
       "      <td>8.387519</td>\n",
       "      <td>[{'name': 'Sandollar Productions', 'id': 5842}...</td>\n",
       "      <td>[{'iso_3166_1': 'US', 'name': 'United States o...</td>\n",
       "      <td>1995-02-10</td>\n",
       "      <td>76578911.0</td>\n",
       "      <td>106.0</td>\n",
       "      <td>[{'iso_639_1': 'en', 'name': 'English'}]</td>\n",
       "      <td>Released</td>\n",
       "      <td>Just When His World Is Back To Normal... He's ...</td>\n",
       "      <td>Father of the Bride Part II</td>\n",
       "      <td>5.7</td>\n",
       "      <td>173.0</td>\n",
       "      <td>0.000000</td>\n",
       "      <td>1995</td>\n",
       "    </tr>\n",
       "    <tr>\n",
       "      <th>5</th>\n",
       "      <td>NaN</td>\n",
       "      <td>60000000.0</td>\n",
       "      <td>[{'id': 28, 'name': 'Action'}, {'id': 80, 'nam...</td>\n",
       "      <td>949</td>\n",
       "      <td>Obsessive master thief, Neil McCauley leads a ...</td>\n",
       "      <td>17.924927</td>\n",
       "      <td>[{'name': 'Regency Enterprises', 'id': 508}, {...</td>\n",
       "      <td>[{'iso_3166_1': 'US', 'name': 'United States o...</td>\n",
       "      <td>1995-12-15</td>\n",
       "      <td>187436818.0</td>\n",
       "      <td>170.0</td>\n",
       "      <td>[{'iso_639_1': 'en', 'name': 'English'}, {'iso...</td>\n",
       "      <td>Released</td>\n",
       "      <td>A Los Angeles Crime Saga</td>\n",
       "      <td>Heat</td>\n",
       "      <td>7.7</td>\n",
       "      <td>1886.0</td>\n",
       "      <td>3.123947</td>\n",
       "      <td>1995</td>\n",
       "    </tr>\n",
       "    <tr>\n",
       "      <th>6</th>\n",
       "      <td>NaN</td>\n",
       "      <td>58000000.0</td>\n",
       "      <td>[{'id': 35, 'name': 'Comedy'}, {'id': 10749, '...</td>\n",
       "      <td>11860</td>\n",
       "      <td>An ugly duckling having undergone a remarkable...</td>\n",
       "      <td>6.677277</td>\n",
       "      <td>[{'name': 'Paramount Pictures', 'id': 4}, {'na...</td>\n",
       "      <td>[{'iso_3166_1': 'DE', 'name': 'Germany'}, {'is...</td>\n",
       "      <td>1995-12-15</td>\n",
       "      <td>0.0</td>\n",
       "      <td>127.0</td>\n",
       "      <td>[{'iso_639_1': 'fr', 'name': 'Français'}, {'is...</td>\n",
       "      <td>Released</td>\n",
       "      <td>You are cordially invited to the most surprisi...</td>\n",
       "      <td>Sabrina</td>\n",
       "      <td>6.2</td>\n",
       "      <td>141.0</td>\n",
       "      <td>0.000000</td>\n",
       "      <td>1995</td>\n",
       "    </tr>\n",
       "  </tbody>\n",
       "</table>\n",
       "</div>"
      ],
      "text/plain": [
       "                               belongs_to_collection      budget  \\\n",
       "0  {'id': 10194, 'name': 'Toy Story Collection', ...  30000000.0   \n",
       "1                                                NaN  65000000.0   \n",
       "2  {'id': 119050, 'name': 'Grumpy Old Men Collect...         0.0   \n",
       "3                                                NaN  16000000.0   \n",
       "4  {'id': 96871, 'name': 'Father of the Bride Col...         0.0   \n",
       "5                                                NaN  60000000.0   \n",
       "6                                                NaN  58000000.0   \n",
       "\n",
       "                                              genres     id  \\\n",
       "0  [{'id': 16, 'name': 'Animation'}, {'id': 35, '...    862   \n",
       "1  [{'id': 12, 'name': 'Adventure'}, {'id': 14, '...   8844   \n",
       "2  [{'id': 10749, 'name': 'Romance'}, {'id': 35, ...  15602   \n",
       "3  [{'id': 35, 'name': 'Comedy'}, {'id': 18, 'nam...  31357   \n",
       "4                     [{'id': 35, 'name': 'Comedy'}]  11862   \n",
       "5  [{'id': 28, 'name': 'Action'}, {'id': 80, 'nam...    949   \n",
       "6  [{'id': 35, 'name': 'Comedy'}, {'id': 10749, '...  11860   \n",
       "\n",
       "                                            overview popularity  \\\n",
       "0  Led by Woody, Andy's toys live happily in his ...  21.946943   \n",
       "1  When siblings Judy and Peter discover an encha...  17.015539   \n",
       "2  A family wedding reignites the ancient feud be...    11.7129   \n",
       "3  Cheated on, mistreated and stepped on, the wom...   3.859495   \n",
       "4  Just when George Banks has recovered from his ...   8.387519   \n",
       "5  Obsessive master thief, Neil McCauley leads a ...  17.924927   \n",
       "6  An ugly duckling having undergone a remarkable...   6.677277   \n",
       "\n",
       "                                production_companies  \\\n",
       "0     [{'name': 'Pixar Animation Studios', 'id': 3}]   \n",
       "1  [{'name': 'TriStar Pictures', 'id': 559}, {'na...   \n",
       "2  [{'name': 'Warner Bros.', 'id': 6194}, {'name'...   \n",
       "3  [{'name': 'Twentieth Century Fox Film Corporat...   \n",
       "4  [{'name': 'Sandollar Productions', 'id': 5842}...   \n",
       "5  [{'name': 'Regency Enterprises', 'id': 508}, {...   \n",
       "6  [{'name': 'Paramount Pictures', 'id': 4}, {'na...   \n",
       "\n",
       "                                production_countries release_date  \\\n",
       "0  [{'iso_3166_1': 'US', 'name': 'United States o...   1995-10-30   \n",
       "1  [{'iso_3166_1': 'US', 'name': 'United States o...   1995-12-15   \n",
       "2  [{'iso_3166_1': 'US', 'name': 'United States o...   1995-12-22   \n",
       "3  [{'iso_3166_1': 'US', 'name': 'United States o...   1995-12-22   \n",
       "4  [{'iso_3166_1': 'US', 'name': 'United States o...   1995-02-10   \n",
       "5  [{'iso_3166_1': 'US', 'name': 'United States o...   1995-12-15   \n",
       "6  [{'iso_3166_1': 'DE', 'name': 'Germany'}, {'is...   1995-12-15   \n",
       "\n",
       "       revenue  runtime                                   spoken_languages  \\\n",
       "0  373554033.0     81.0           [{'iso_639_1': 'en', 'name': 'English'}]   \n",
       "1  262797249.0    104.0  [{'iso_639_1': 'en', 'name': 'English'}, {'iso...   \n",
       "2          0.0    101.0           [{'iso_639_1': 'en', 'name': 'English'}]   \n",
       "3   81452156.0    127.0           [{'iso_639_1': 'en', 'name': 'English'}]   \n",
       "4   76578911.0    106.0           [{'iso_639_1': 'en', 'name': 'English'}]   \n",
       "5  187436818.0    170.0  [{'iso_639_1': 'en', 'name': 'English'}, {'iso...   \n",
       "6          0.0    127.0  [{'iso_639_1': 'fr', 'name': 'Français'}, {'is...   \n",
       "\n",
       "     status                                            tagline  \\\n",
       "0  Released                                                NaN   \n",
       "1  Released          Roll the dice and unleash the excitement!   \n",
       "2  Released  Still Yelling. Still Fighting. Still Ready for...   \n",
       "3  Released  Friends are the people who let you be yourself...   \n",
       "4  Released  Just When His World Is Back To Normal... He's ...   \n",
       "5  Released                           A Los Angeles Crime Saga   \n",
       "6  Released  You are cordially invited to the most surprisi...   \n",
       "\n",
       "                         title  vote_average  vote_count     return  \\\n",
       "0                    Toy Story           7.7      5415.0  12.451801   \n",
       "1                      Jumanji           6.9      2413.0   4.043035   \n",
       "2             Grumpier Old Men           6.5        92.0   0.000000   \n",
       "3            Waiting to Exhale           6.1        34.0   5.090760   \n",
       "4  Father of the Bride Part II           5.7       173.0   0.000000   \n",
       "5                         Heat           7.7      1886.0   3.123947   \n",
       "6                      Sabrina           6.2       141.0   0.000000   \n",
       "\n",
       "   release_year  \n",
       "0          1995  \n",
       "1          1995  \n",
       "2          1995  \n",
       "3          1995  \n",
       "4          1995  \n",
       "5          1995  \n",
       "6          1995  "
      ]
     },
     "execution_count": 66,
     "metadata": {},
     "output_type": "execute_result"
    }
   ],
   "source": [
    "df.head(7)"
   ]
  },
  {
   "cell_type": "code",
   "execution_count": 67,
   "metadata": {},
   "outputs": [
    {
     "data": {
      "text/plain": [
       "(45376, 19)"
      ]
     },
     "execution_count": 67,
     "metadata": {},
     "output_type": "execute_result"
    }
   ],
   "source": [
    "df.shape"
   ]
  },
  {
   "cell_type": "markdown",
   "metadata": {},
   "source": [
    "## - Extraccion de datos de interes anidados en columnas complejas"
   ]
  },
  {
   "cell_type": "code",
   "execution_count": 68,
   "metadata": {},
   "outputs": [
    {
     "data": {
      "text/html": [
       "<div>\n",
       "<style scoped>\n",
       "    .dataframe tbody tr th:only-of-type {\n",
       "        vertical-align: middle;\n",
       "    }\n",
       "\n",
       "    .dataframe tbody tr th {\n",
       "        vertical-align: top;\n",
       "    }\n",
       "\n",
       "    .dataframe thead th {\n",
       "        text-align: right;\n",
       "    }\n",
       "</style>\n",
       "<table border=\"1\" class=\"dataframe\">\n",
       "  <thead>\n",
       "    <tr style=\"text-align: right;\">\n",
       "      <th></th>\n",
       "      <th>id</th>\n",
       "      <th>belongs_to_collection</th>\n",
       "      <th>production_companies</th>\n",
       "      <th>genres</th>\n",
       "      <th>production_countries</th>\n",
       "      <th>spoken_languages</th>\n",
       "    </tr>\n",
       "  </thead>\n",
       "  <tbody>\n",
       "    <tr>\n",
       "      <th>0</th>\n",
       "      <td>862</td>\n",
       "      <td>{'id': 10194, 'name': 'Toy Story Collection', ...</td>\n",
       "      <td>[{'name': 'Pixar Animation Studios', 'id': 3}]</td>\n",
       "      <td>[{'id': 16, 'name': 'Animation'}, {'id': 35, '...</td>\n",
       "      <td>[{'iso_3166_1': 'US', 'name': 'United States o...</td>\n",
       "      <td>[{'iso_639_1': 'en', 'name': 'English'}]</td>\n",
       "    </tr>\n",
       "    <tr>\n",
       "      <th>1</th>\n",
       "      <td>8844</td>\n",
       "      <td>NaN</td>\n",
       "      <td>[{'name': 'TriStar Pictures', 'id': 559}, {'na...</td>\n",
       "      <td>[{'id': 12, 'name': 'Adventure'}, {'id': 14, '...</td>\n",
       "      <td>[{'iso_3166_1': 'US', 'name': 'United States o...</td>\n",
       "      <td>[{'iso_639_1': 'en', 'name': 'English'}, {'iso...</td>\n",
       "    </tr>\n",
       "    <tr>\n",
       "      <th>2</th>\n",
       "      <td>15602</td>\n",
       "      <td>{'id': 119050, 'name': 'Grumpy Old Men Collect...</td>\n",
       "      <td>[{'name': 'Warner Bros.', 'id': 6194}, {'name'...</td>\n",
       "      <td>[{'id': 10749, 'name': 'Romance'}, {'id': 35, ...</td>\n",
       "      <td>[{'iso_3166_1': 'US', 'name': 'United States o...</td>\n",
       "      <td>[{'iso_639_1': 'en', 'name': 'English'}]</td>\n",
       "    </tr>\n",
       "    <tr>\n",
       "      <th>3</th>\n",
       "      <td>31357</td>\n",
       "      <td>NaN</td>\n",
       "      <td>[{'name': 'Twentieth Century Fox Film Corporat...</td>\n",
       "      <td>[{'id': 35, 'name': 'Comedy'}, {'id': 18, 'nam...</td>\n",
       "      <td>[{'iso_3166_1': 'US', 'name': 'United States o...</td>\n",
       "      <td>[{'iso_639_1': 'en', 'name': 'English'}]</td>\n",
       "    </tr>\n",
       "    <tr>\n",
       "      <th>4</th>\n",
       "      <td>11862</td>\n",
       "      <td>{'id': 96871, 'name': 'Father of the Bride Col...</td>\n",
       "      <td>[{'name': 'Sandollar Productions', 'id': 5842}...</td>\n",
       "      <td>[{'id': 35, 'name': 'Comedy'}]</td>\n",
       "      <td>[{'iso_3166_1': 'US', 'name': 'United States o...</td>\n",
       "      <td>[{'iso_639_1': 'en', 'name': 'English'}]</td>\n",
       "    </tr>\n",
       "    <tr>\n",
       "      <th>...</th>\n",
       "      <td>...</td>\n",
       "      <td>...</td>\n",
       "      <td>...</td>\n",
       "      <td>...</td>\n",
       "      <td>...</td>\n",
       "      <td>...</td>\n",
       "    </tr>\n",
       "    <tr>\n",
       "      <th>45460</th>\n",
       "      <td>30840</td>\n",
       "      <td>NaN</td>\n",
       "      <td>[{'name': 'Westdeutscher Rundfunk (WDR)', 'id'...</td>\n",
       "      <td>[{'id': 18, 'name': 'Drama'}, {'id': 28, 'name...</td>\n",
       "      <td>[{'iso_3166_1': 'CA', 'name': 'Canada'}, {'iso...</td>\n",
       "      <td>[{'iso_639_1': 'en', 'name': 'English'}]</td>\n",
       "    </tr>\n",
       "    <tr>\n",
       "      <th>45462</th>\n",
       "      <td>111109</td>\n",
       "      <td>NaN</td>\n",
       "      <td>[{'name': 'Sine Olivia', 'id': 19653}]</td>\n",
       "      <td>[{'id': 18, 'name': 'Drama'}]</td>\n",
       "      <td>[{'iso_3166_1': 'PH', 'name': 'Philippines'}]</td>\n",
       "      <td>[{'iso_639_1': 'tl', 'name': ''}]</td>\n",
       "    </tr>\n",
       "    <tr>\n",
       "      <th>45463</th>\n",
       "      <td>67758</td>\n",
       "      <td>NaN</td>\n",
       "      <td>[{'name': 'American World Pictures', 'id': 6165}]</td>\n",
       "      <td>[{'id': 28, 'name': 'Action'}, {'id': 18, 'nam...</td>\n",
       "      <td>[{'iso_3166_1': 'US', 'name': 'United States o...</td>\n",
       "      <td>[{'iso_639_1': 'en', 'name': 'English'}]</td>\n",
       "    </tr>\n",
       "    <tr>\n",
       "      <th>45464</th>\n",
       "      <td>227506</td>\n",
       "      <td>NaN</td>\n",
       "      <td>[{'name': 'Yermoliev', 'id': 88753}]</td>\n",
       "      <td>[]</td>\n",
       "      <td>[{'iso_3166_1': 'RU', 'name': 'Russia'}]</td>\n",
       "      <td>[]</td>\n",
       "    </tr>\n",
       "    <tr>\n",
       "      <th>45465</th>\n",
       "      <td>461257</td>\n",
       "      <td>NaN</td>\n",
       "      <td>[]</td>\n",
       "      <td>[]</td>\n",
       "      <td>[{'iso_3166_1': 'GB', 'name': 'United Kingdom'}]</td>\n",
       "      <td>[{'iso_639_1': 'en', 'name': 'English'}]</td>\n",
       "    </tr>\n",
       "  </tbody>\n",
       "</table>\n",
       "<p>45376 rows × 6 columns</p>\n",
       "</div>"
      ],
      "text/plain": [
       "           id                              belongs_to_collection  \\\n",
       "0         862  {'id': 10194, 'name': 'Toy Story Collection', ...   \n",
       "1        8844                                                NaN   \n",
       "2       15602  {'id': 119050, 'name': 'Grumpy Old Men Collect...   \n",
       "3       31357                                                NaN   \n",
       "4       11862  {'id': 96871, 'name': 'Father of the Bride Col...   \n",
       "...       ...                                                ...   \n",
       "45460   30840                                                NaN   \n",
       "45462  111109                                                NaN   \n",
       "45463   67758                                                NaN   \n",
       "45464  227506                                                NaN   \n",
       "45465  461257                                                NaN   \n",
       "\n",
       "                                    production_companies  \\\n",
       "0         [{'name': 'Pixar Animation Studios', 'id': 3}]   \n",
       "1      [{'name': 'TriStar Pictures', 'id': 559}, {'na...   \n",
       "2      [{'name': 'Warner Bros.', 'id': 6194}, {'name'...   \n",
       "3      [{'name': 'Twentieth Century Fox Film Corporat...   \n",
       "4      [{'name': 'Sandollar Productions', 'id': 5842}...   \n",
       "...                                                  ...   \n",
       "45460  [{'name': 'Westdeutscher Rundfunk (WDR)', 'id'...   \n",
       "45462             [{'name': 'Sine Olivia', 'id': 19653}]   \n",
       "45463  [{'name': 'American World Pictures', 'id': 6165}]   \n",
       "45464               [{'name': 'Yermoliev', 'id': 88753}]   \n",
       "45465                                                 []   \n",
       "\n",
       "                                                  genres  \\\n",
       "0      [{'id': 16, 'name': 'Animation'}, {'id': 35, '...   \n",
       "1      [{'id': 12, 'name': 'Adventure'}, {'id': 14, '...   \n",
       "2      [{'id': 10749, 'name': 'Romance'}, {'id': 35, ...   \n",
       "3      [{'id': 35, 'name': 'Comedy'}, {'id': 18, 'nam...   \n",
       "4                         [{'id': 35, 'name': 'Comedy'}]   \n",
       "...                                                  ...   \n",
       "45460  [{'id': 18, 'name': 'Drama'}, {'id': 28, 'name...   \n",
       "45462                      [{'id': 18, 'name': 'Drama'}]   \n",
       "45463  [{'id': 28, 'name': 'Action'}, {'id': 18, 'nam...   \n",
       "45464                                                 []   \n",
       "45465                                                 []   \n",
       "\n",
       "                                    production_countries  \\\n",
       "0      [{'iso_3166_1': 'US', 'name': 'United States o...   \n",
       "1      [{'iso_3166_1': 'US', 'name': 'United States o...   \n",
       "2      [{'iso_3166_1': 'US', 'name': 'United States o...   \n",
       "3      [{'iso_3166_1': 'US', 'name': 'United States o...   \n",
       "4      [{'iso_3166_1': 'US', 'name': 'United States o...   \n",
       "...                                                  ...   \n",
       "45460  [{'iso_3166_1': 'CA', 'name': 'Canada'}, {'iso...   \n",
       "45462      [{'iso_3166_1': 'PH', 'name': 'Philippines'}]   \n",
       "45463  [{'iso_3166_1': 'US', 'name': 'United States o...   \n",
       "45464           [{'iso_3166_1': 'RU', 'name': 'Russia'}]   \n",
       "45465   [{'iso_3166_1': 'GB', 'name': 'United Kingdom'}]   \n",
       "\n",
       "                                        spoken_languages  \n",
       "0               [{'iso_639_1': 'en', 'name': 'English'}]  \n",
       "1      [{'iso_639_1': 'en', 'name': 'English'}, {'iso...  \n",
       "2               [{'iso_639_1': 'en', 'name': 'English'}]  \n",
       "3               [{'iso_639_1': 'en', 'name': 'English'}]  \n",
       "4               [{'iso_639_1': 'en', 'name': 'English'}]  \n",
       "...                                                  ...  \n",
       "45460           [{'iso_639_1': 'en', 'name': 'English'}]  \n",
       "45462                  [{'iso_639_1': 'tl', 'name': ''}]  \n",
       "45463           [{'iso_639_1': 'en', 'name': 'English'}]  \n",
       "45464                                                 []  \n",
       "45465           [{'iso_639_1': 'en', 'name': 'English'}]  \n",
       "\n",
       "[45376 rows x 6 columns]"
      ]
     },
     "execution_count": 68,
     "metadata": {},
     "output_type": "execute_result"
    }
   ],
   "source": [
    "# ID y info de columnas complejas\n",
    "target_columns = ['id','belongs_to_collection', 'production_companies', 'genres', 'production_countries', 'spoken_languages']\n",
    "df[target_columns]"
   ]
  },
  {
   "cell_type": "code",
   "execution_count": 69,
   "metadata": {},
   "outputs": [],
   "source": [
    "# FUNCION para conversion decimales (floats) a NaN en las columnas de string anidadas\n",
    "def replace_floats_with_nan(df, columns):\n",
    "    \n",
    "    for column in columns:\n",
    "        df[column] = df[column].apply(lambda x: np.nan if isinstance(x, float) else x)\n",
    "    return df"
   ]
  },
  {
   "cell_type": "code",
   "execution_count": 70,
   "metadata": {},
   "outputs": [],
   "source": [
    "# Lista de columnas que se desean procesar\n",
    "columns_to_process = ['belongs_to_collection', 'genres', 'spoken_languages', 'production_countries']\n",
    "\n",
    "# Aplicar la función al DataFrame\n",
    "df = replace_floats_with_nan(df, columns_to_process)\n"
   ]
  },
  {
   "cell_type": "code",
   "execution_count": 71,
   "metadata": {},
   "outputs": [
    {
     "name": "stdout",
     "output_type": "stream",
     "text": [
      "                                   belongs_to_collection  \\\n",
      "0      {'id': 10194, 'name': 'Toy Story Collection', ...   \n",
      "1                                                    NaN   \n",
      "2      {'id': 119050, 'name': 'Grumpy Old Men Collect...   \n",
      "3                                                    NaN   \n",
      "4      {'id': 96871, 'name': 'Father of the Bride Col...   \n",
      "...                                                  ...   \n",
      "45460                                                NaN   \n",
      "45462                                                NaN   \n",
      "45463                                                NaN   \n",
      "45464                                                NaN   \n",
      "45465                                                NaN   \n",
      "\n",
      "                     collection_names  \n",
      "0                Toy Story Collection  \n",
      "1                                 NaN  \n",
      "2           Grumpy Old Men Collection  \n",
      "3                                 NaN  \n",
      "4      Father of the Bride Collection  \n",
      "...                               ...  \n",
      "45460                             NaN  \n",
      "45462                             NaN  \n",
      "45463                             NaN  \n",
      "45464                             NaN  \n",
      "45465                             NaN  \n",
      "\n",
      "[45376 rows x 2 columns]\n"
     ]
    }
   ],
   "source": [
    "#FUNCION PARA TRABAJAR COLUMNA \"belongs_to_collection\"\n",
    "\n",
    "# Función para extraer el valor de 'name' si la fila comienza con '{', de lo contrario devuelve el valor original\n",
    "def extract_name_if_dict(belongs_to_collection_data):\n",
    "    if isinstance(belongs_to_collection_data, str) and belongs_to_collection_data.strip().startswith('{'):\n",
    "        # Usar una expresión regular para buscar 'name': 'NOMBRE'\n",
    "        match = re.search(r\"'name': '([^']*)'\", belongs_to_collection_data)\n",
    "        if match:\n",
    "            return match.group(1)  # Retorna el nombre encontrado\n",
    "    return belongs_to_collection_data  # Retorna el valor original si no comienza con '{'\n",
    "\n",
    "# Aplicar la función a toda la columna 'belongs_to_collection' y crear una nueva columna 'collection_names'\n",
    "df['collection_names'] = df['belongs_to_collection'].apply(extract_name_if_dict)\n",
    "\n",
    "# Mostrar las primeras filas para verificar los resultados\n",
    "print(df[['belongs_to_collection', 'collection_names']])"
   ]
  },
  {
   "cell_type": "code",
   "execution_count": 72,
   "metadata": {},
   "outputs": [
    {
     "name": "stdout",
     "output_type": "stream",
     "text": [
      "                                                  genres  \\\n",
      "0      [{'id': 16, 'name': 'Animation'}, {'id': 35, '...   \n",
      "1      [{'id': 12, 'name': 'Adventure'}, {'id': 14, '...   \n",
      "2      [{'id': 10749, 'name': 'Romance'}, {'id': 35, ...   \n",
      "3      [{'id': 35, 'name': 'Comedy'}, {'id': 18, 'nam...   \n",
      "4                         [{'id': 35, 'name': 'Comedy'}]   \n",
      "...                                                  ...   \n",
      "45460  [{'id': 18, 'name': 'Drama'}, {'id': 28, 'name...   \n",
      "45462                      [{'id': 18, 'name': 'Drama'}]   \n",
      "45463  [{'id': 28, 'name': 'Action'}, {'id': 18, 'nam...   \n",
      "45464                                                 []   \n",
      "45465                                                 []   \n",
      "\n",
      "                        genre_names  \n",
      "0       [Animation, Comedy, Family]  \n",
      "1      [Adventure, Fantasy, Family]  \n",
      "2                 [Romance, Comedy]  \n",
      "3          [Comedy, Drama, Romance]  \n",
      "4                          [Comedy]  \n",
      "...                             ...  \n",
      "45460      [Drama, Action, Romance]  \n",
      "45462                       [Drama]  \n",
      "45463     [Action, Drama, Thriller]  \n",
      "45464                           NaN  \n",
      "45465                           NaN  \n",
      "\n",
      "[45376 rows x 2 columns]\n"
     ]
    }
   ],
   "source": [
    "# FUNCION PARA TRABAJAR LA COLUMNA \"genres/genero\"\n",
    "\n",
    "# Función para extraer los valores de 'name' en filas que comienzan con '['\n",
    "def extract_genres_names(genres_data):\n",
    "    if isinstance(genres_data, str) and genres_data.strip().startswith('['):\n",
    "        # Usar una expresión regular para encontrar todas las ocurrencias de 'name': 'NOMBRE'\n",
    "        names = re.findall(r\"'name': '([^']*)'\", genres_data)\n",
    "        return names if names else np.nan\n",
    "    return np.nan  # Retornar NaN si la fila no comienza con '['\n",
    "\n",
    "# Aplicar la función a toda la columna 'genres' y crear una nueva columna 'genre_names'\n",
    "df['genre_names'] = df['genres'].apply(extract_genres_names)\n",
    "\n",
    "# Mostrar las primeras filas para verificar los resultados\n",
    "print(df[['genres', 'genre_names']])\n"
   ]
  },
  {
   "cell_type": "code",
   "execution_count": 73,
   "metadata": {},
   "outputs": [
    {
     "name": "stdout",
     "output_type": "stream",
     "text": [
      "0         Animation, Comedy, Family\n",
      "1        Adventure, Fantasy, Family\n",
      "2                   Romance, Comedy\n",
      "3            Comedy, Drama, Romance\n",
      "4                            Comedy\n",
      "                    ...            \n",
      "45460        Drama, Action, Romance\n",
      "45462                         Drama\n",
      "45463       Action, Drama, Thriller\n",
      "45464                           NaN\n",
      "45465                           NaN\n",
      "Name: genre_names, Length: 45376, dtype: object\n"
     ]
    }
   ],
   "source": [
    "# FUNCIÓN PARA CONVERTIR LISTA DE GENEROS A STRINGS CON NORMALIZACIÓN DE ESPACIOS\n",
    "def list_to_string(x):\n",
    "    if isinstance(x, list):\n",
    "        # Eliminar espacios en blanco de cada elemento antes de unirlos\n",
    "        return ', '.join([genre.strip() for genre in x])\n",
    "    elif pd.isnull(x):\n",
    "        return x\n",
    "    else:\n",
    "        # Eliminar espacios en blanco si es una cadena simple\n",
    "        return str(x).strip()\n",
    "\n",
    "# Aplicar la función a la columna 'genre_names'\n",
    "df['genre_names'] = df['genre_names'].apply(list_to_string)\n",
    "\n",
    "# Verificar el resultado\n",
    "print(df['genre_names'])\n"
   ]
  },
  {
   "cell_type": "code",
   "execution_count": 74,
   "metadata": {},
   "outputs": [
    {
     "name": "stdout",
     "output_type": "stream",
     "text": [
      "0         Animation, Comedy, Family\n",
      "1        Adventure, Fantasy, Family\n",
      "2                   Romance, Comedy\n",
      "3            Comedy, Drama, Romance\n",
      "4                            Comedy\n",
      "                    ...            \n",
      "45460        Drama, Action, Romance\n",
      "45462                         Drama\n",
      "45463       Action, Drama, Thriller\n",
      "45464                           NaN\n",
      "45465                           NaN\n",
      "Name: genre_names, Length: 45376, dtype: object\n"
     ]
    }
   ],
   "source": [
    "# FUNCION PARA CONVERTIR ELIMINAR VALORES NUMERICOS EN LA COLUMNA GENRES/GENEROS\n",
    "\n",
    "def is_numeric_only(x):\n",
    "    return str(x).isdigit()\n",
    "\n",
    "# Eliminacion de filas donde 'genre_names' es numero\n",
    "df = df[~df['genre_names'].apply(is_numeric_only)]\n",
    "\n",
    "print(df['genre_names'])"
   ]
  },
  {
   "cell_type": "code",
   "execution_count": 75,
   "metadata": {},
   "outputs": [
    {
     "data": {
      "text/html": [
       "<div>\n",
       "<style scoped>\n",
       "    .dataframe tbody tr th:only-of-type {\n",
       "        vertical-align: middle;\n",
       "    }\n",
       "\n",
       "    .dataframe tbody tr th {\n",
       "        vertical-align: top;\n",
       "    }\n",
       "\n",
       "    .dataframe thead th {\n",
       "        text-align: right;\n",
       "    }\n",
       "</style>\n",
       "<table border=\"1\" class=\"dataframe\">\n",
       "  <thead>\n",
       "    <tr style=\"text-align: right;\">\n",
       "      <th></th>\n",
       "      <th>spoken_languages</th>\n",
       "      <th>language_names</th>\n",
       "    </tr>\n",
       "  </thead>\n",
       "  <tbody>\n",
       "    <tr>\n",
       "      <th>0</th>\n",
       "      <td>[{'iso_639_1': 'en', 'name': 'English'}]</td>\n",
       "      <td>[English]</td>\n",
       "    </tr>\n",
       "    <tr>\n",
       "      <th>1</th>\n",
       "      <td>[{'iso_639_1': 'en', 'name': 'English'}, {'iso...</td>\n",
       "      <td>[English, Français]</td>\n",
       "    </tr>\n",
       "    <tr>\n",
       "      <th>2</th>\n",
       "      <td>[{'iso_639_1': 'en', 'name': 'English'}]</td>\n",
       "      <td>[English]</td>\n",
       "    </tr>\n",
       "    <tr>\n",
       "      <th>3</th>\n",
       "      <td>[{'iso_639_1': 'en', 'name': 'English'}]</td>\n",
       "      <td>[English]</td>\n",
       "    </tr>\n",
       "    <tr>\n",
       "      <th>4</th>\n",
       "      <td>[{'iso_639_1': 'en', 'name': 'English'}]</td>\n",
       "      <td>[English]</td>\n",
       "    </tr>\n",
       "    <tr>\n",
       "      <th>...</th>\n",
       "      <td>...</td>\n",
       "      <td>...</td>\n",
       "    </tr>\n",
       "    <tr>\n",
       "      <th>45460</th>\n",
       "      <td>[{'iso_639_1': 'en', 'name': 'English'}]</td>\n",
       "      <td>[English]</td>\n",
       "    </tr>\n",
       "    <tr>\n",
       "      <th>45462</th>\n",
       "      <td>[{'iso_639_1': 'tl', 'name': ''}]</td>\n",
       "      <td>[]</td>\n",
       "    </tr>\n",
       "    <tr>\n",
       "      <th>45463</th>\n",
       "      <td>[{'iso_639_1': 'en', 'name': 'English'}]</td>\n",
       "      <td>[English]</td>\n",
       "    </tr>\n",
       "    <tr>\n",
       "      <th>45464</th>\n",
       "      <td>[]</td>\n",
       "      <td>NaN</td>\n",
       "    </tr>\n",
       "    <tr>\n",
       "      <th>45465</th>\n",
       "      <td>[{'iso_639_1': 'en', 'name': 'English'}]</td>\n",
       "      <td>[English]</td>\n",
       "    </tr>\n",
       "  </tbody>\n",
       "</table>\n",
       "<p>45376 rows × 2 columns</p>\n",
       "</div>"
      ],
      "text/plain": [
       "                                        spoken_languages       language_names\n",
       "0               [{'iso_639_1': 'en', 'name': 'English'}]            [English]\n",
       "1      [{'iso_639_1': 'en', 'name': 'English'}, {'iso...  [English, Français]\n",
       "2               [{'iso_639_1': 'en', 'name': 'English'}]            [English]\n",
       "3               [{'iso_639_1': 'en', 'name': 'English'}]            [English]\n",
       "4               [{'iso_639_1': 'en', 'name': 'English'}]            [English]\n",
       "...                                                  ...                  ...\n",
       "45460           [{'iso_639_1': 'en', 'name': 'English'}]            [English]\n",
       "45462                  [{'iso_639_1': 'tl', 'name': ''}]                   []\n",
       "45463           [{'iso_639_1': 'en', 'name': 'English'}]            [English]\n",
       "45464                                                 []                  NaN\n",
       "45465           [{'iso_639_1': 'en', 'name': 'English'}]            [English]\n",
       "\n",
       "[45376 rows x 2 columns]"
      ]
     },
     "execution_count": 75,
     "metadata": {},
     "output_type": "execute_result"
    }
   ],
   "source": [
    "# FUNCION PARA TRABAJAR LA COLUMNA DE IDIOMA\n",
    "\n",
    "# Función para extraer los valores de 'name' en filas que comienzan con '['\n",
    "def extract_language_names(spoken_languages_data):\n",
    "    if isinstance(spoken_languages_data, str) and spoken_languages_data.strip().startswith('['):\n",
    "        # Usar una expresión regular para encontrar todas las ocurrencias de 'name': 'NOMBRE'\n",
    "        names = re.findall(r\"'name': '([^']*)'\", spoken_languages_data)\n",
    "        return names if names else np.nan\n",
    "    return np.nan  # Retornar NaN si la fila no comienza con '['\n",
    "\n",
    "# Aplicar la función a toda la columna 'spoken_languages' y crear una nueva columna 'language_names'\n",
    "df['language_names'] = df['spoken_languages'].apply(extract_language_names)\n",
    "\n",
    "# Mostrar las primeras filas para verificar los resultados\n",
    "df[['spoken_languages', 'language_names']]"
   ]
  },
  {
   "cell_type": "code",
   "execution_count": 76,
   "metadata": {},
   "outputs": [
    {
     "name": "stdout",
     "output_type": "stream",
     "text": [
      "0                 English\n",
      "1        English, Frances\n",
      "2                 English\n",
      "3                 English\n",
      "4                 English\n",
      "               ...       \n",
      "45460             English\n",
      "45462                    \n",
      "45463             English\n",
      "45464                 NaN\n",
      "45465             English\n",
      "Name: language_names, Length: 45376, dtype: object\n"
     ]
    }
   ],
   "source": [
    "# FUNCION PARA ELIMINAR LISTA Y ESPACIOS ENTRE PALABRAS // NORMALIZACION DE IDIOMAS\n",
    "def list_to_string(x):\n",
    "    if isinstance(x, list):\n",
    "        # Eliminacion de espacios entre textos\n",
    "        result = ', '.join([lang.strip() for lang in x])\n",
    "    elif pd.isnull(x):\n",
    "        return x\n",
    "    else:\n",
    "        # Eliminacion de espacios para palabras unicas\n",
    "        result = str(x).strip()\n",
    "\n",
    "    # Normalizacion de algunos idiomas relevantes\n",
    "    result = result.replace('日本語', 'Japones')\n",
    "    result = result.replace('Français', 'Frances')\n",
    "    result = result.replace('Português', 'Portugues')\n",
    "\n",
    "    return result\n",
    "\n",
    "# Uso de la funcion sobre columna 'language_names'\n",
    "df['language_names'] = df['language_names'].apply(list_to_string)\n",
    "\n",
    "print(df['language_names'])"
   ]
  },
  {
   "cell_type": "code",
   "execution_count": 77,
   "metadata": {},
   "outputs": [
    {
     "name": "stdout",
     "output_type": "stream",
     "text": [
      "                                    production_countries  \\\n",
      "0      [{'iso_3166_1': 'US', 'name': 'United States o...   \n",
      "1      [{'iso_3166_1': 'US', 'name': 'United States o...   \n",
      "2      [{'iso_3166_1': 'US', 'name': 'United States o...   \n",
      "3      [{'iso_3166_1': 'US', 'name': 'United States o...   \n",
      "4      [{'iso_3166_1': 'US', 'name': 'United States o...   \n",
      "...                                                  ...   \n",
      "45460  [{'iso_3166_1': 'CA', 'name': 'Canada'}, {'iso...   \n",
      "45462      [{'iso_3166_1': 'PH', 'name': 'Philippines'}]   \n",
      "45463  [{'iso_3166_1': 'US', 'name': 'United States o...   \n",
      "45464           [{'iso_3166_1': 'RU', 'name': 'Russia'}]   \n",
      "45465   [{'iso_3166_1': 'GB', 'name': 'United Kingdom'}]   \n",
      "\n",
      "                                           country_names  \n",
      "0                             [United States of America]  \n",
      "1                             [United States of America]  \n",
      "2                             [United States of America]  \n",
      "3                             [United States of America]  \n",
      "4                             [United States of America]  \n",
      "...                                                  ...  \n",
      "45460  [Canada, Germany, United Kingdom, United State...  \n",
      "45462                                      [Philippines]  \n",
      "45463                         [United States of America]  \n",
      "45464                                           [Russia]  \n",
      "45465                                   [United Kingdom]  \n",
      "\n",
      "[45376 rows x 2 columns]\n"
     ]
    }
   ],
   "source": [
    "#FUNCION PARA TRABAJAR LA COLUMNA \"production_contries\"\n",
    "\n",
    "# Función para extraer los valores de 'name' en filas que comienzan con '['\n",
    "def extract_country_names(production_countries_data):\n",
    "    if isinstance(production_countries_data, str) and production_countries_data.strip().startswith('['):\n",
    "        # Usar una expresión regular para encontrar todas las ocurrencias de 'name': 'NOMBRE'\n",
    "        names = re.findall(r\"'name': '([^']*)'\", production_countries_data)\n",
    "        return names if names else np.nan\n",
    "    return np.nan  # Retornar NaN si la fila no comienza con '['\n",
    "\n",
    "# Aplicar la función a toda la columna 'production_countries' y crear una nueva columna 'country_names'\n",
    "df['country_names'] = df['production_countries'].apply(extract_country_names)\n",
    "\n",
    "# Mostrar las primeras filas para verificar los resultados\n",
    "print(df[['production_countries', 'country_names']])"
   ]
  },
  {
   "cell_type": "markdown",
   "metadata": {},
   "source": [
    "## - Elimnacion de las columnas con informacion anidada"
   ]
  },
  {
   "cell_type": "code",
   "execution_count": 78,
   "metadata": {},
   "outputs": [],
   "source": [
    "df=df.drop(columns=['belongs_to_collection','production_companies','genres','production_countries','spoken_languages'])"
   ]
  },
  {
   "cell_type": "markdown",
   "metadata": {},
   "source": [
    "# 1B. Carga de datos del segundo dataset credits.csv que tiene informacion importante (actor, director) en columnas complejas"
   ]
  },
  {
   "cell_type": "code",
   "execution_count": 79,
   "metadata": {},
   "outputs": [],
   "source": [
    "df_B = pd.read_csv('../Datasets/credits.csv')"
   ]
  },
  {
   "cell_type": "code",
   "execution_count": 80,
   "metadata": {},
   "outputs": [
    {
     "data": {
      "text/html": [
       "<div>\n",
       "<style scoped>\n",
       "    .dataframe tbody tr th:only-of-type {\n",
       "        vertical-align: middle;\n",
       "    }\n",
       "\n",
       "    .dataframe tbody tr th {\n",
       "        vertical-align: top;\n",
       "    }\n",
       "\n",
       "    .dataframe thead th {\n",
       "        text-align: right;\n",
       "    }\n",
       "</style>\n",
       "<table border=\"1\" class=\"dataframe\">\n",
       "  <thead>\n",
       "    <tr style=\"text-align: right;\">\n",
       "      <th></th>\n",
       "      <th>cast</th>\n",
       "      <th>crew</th>\n",
       "      <th>id</th>\n",
       "    </tr>\n",
       "  </thead>\n",
       "  <tbody>\n",
       "    <tr>\n",
       "      <th>0</th>\n",
       "      <td>[{'cast_id': 14, 'character': 'Woody (voice)',...</td>\n",
       "      <td>[{'credit_id': '52fe4284c3a36847f8024f49', 'de...</td>\n",
       "      <td>862</td>\n",
       "    </tr>\n",
       "    <tr>\n",
       "      <th>1</th>\n",
       "      <td>[{'cast_id': 1, 'character': 'Alan Parrish', '...</td>\n",
       "      <td>[{'credit_id': '52fe44bfc3a36847f80a7cd1', 'de...</td>\n",
       "      <td>8844</td>\n",
       "    </tr>\n",
       "    <tr>\n",
       "      <th>2</th>\n",
       "      <td>[{'cast_id': 2, 'character': 'Max Goldman', 'c...</td>\n",
       "      <td>[{'credit_id': '52fe466a9251416c75077a89', 'de...</td>\n",
       "      <td>15602</td>\n",
       "    </tr>\n",
       "    <tr>\n",
       "      <th>3</th>\n",
       "      <td>[{'cast_id': 1, 'character': \"Savannah 'Vannah...</td>\n",
       "      <td>[{'credit_id': '52fe44779251416c91011acb', 'de...</td>\n",
       "      <td>31357</td>\n",
       "    </tr>\n",
       "    <tr>\n",
       "      <th>4</th>\n",
       "      <td>[{'cast_id': 1, 'character': 'George Banks', '...</td>\n",
       "      <td>[{'credit_id': '52fe44959251416c75039ed7', 'de...</td>\n",
       "      <td>11862</td>\n",
       "    </tr>\n",
       "    <tr>\n",
       "      <th>...</th>\n",
       "      <td>...</td>\n",
       "      <td>...</td>\n",
       "      <td>...</td>\n",
       "    </tr>\n",
       "    <tr>\n",
       "      <th>45471</th>\n",
       "      <td>[{'cast_id': 0, 'character': '', 'credit_id': ...</td>\n",
       "      <td>[{'credit_id': '5894a97d925141426c00818c', 'de...</td>\n",
       "      <td>439050</td>\n",
       "    </tr>\n",
       "    <tr>\n",
       "      <th>45472</th>\n",
       "      <td>[{'cast_id': 1002, 'character': 'Sister Angela...</td>\n",
       "      <td>[{'credit_id': '52fe4af1c3a36847f81e9b15', 'de...</td>\n",
       "      <td>111109</td>\n",
       "    </tr>\n",
       "    <tr>\n",
       "      <th>45473</th>\n",
       "      <td>[{'cast_id': 6, 'character': 'Emily Shaw', 'cr...</td>\n",
       "      <td>[{'credit_id': '52fe4776c3a368484e0c8387', 'de...</td>\n",
       "      <td>67758</td>\n",
       "    </tr>\n",
       "    <tr>\n",
       "      <th>45474</th>\n",
       "      <td>[{'cast_id': 2, 'character': '', 'credit_id': ...</td>\n",
       "      <td>[{'credit_id': '533bccebc3a36844cf0011a7', 'de...</td>\n",
       "      <td>227506</td>\n",
       "    </tr>\n",
       "    <tr>\n",
       "      <th>45475</th>\n",
       "      <td>[]</td>\n",
       "      <td>[{'credit_id': '593e676c92514105b702e68e', 'de...</td>\n",
       "      <td>461257</td>\n",
       "    </tr>\n",
       "  </tbody>\n",
       "</table>\n",
       "<p>45476 rows × 3 columns</p>\n",
       "</div>"
      ],
      "text/plain": [
       "                                                    cast  \\\n",
       "0      [{'cast_id': 14, 'character': 'Woody (voice)',...   \n",
       "1      [{'cast_id': 1, 'character': 'Alan Parrish', '...   \n",
       "2      [{'cast_id': 2, 'character': 'Max Goldman', 'c...   \n",
       "3      [{'cast_id': 1, 'character': \"Savannah 'Vannah...   \n",
       "4      [{'cast_id': 1, 'character': 'George Banks', '...   \n",
       "...                                                  ...   \n",
       "45471  [{'cast_id': 0, 'character': '', 'credit_id': ...   \n",
       "45472  [{'cast_id': 1002, 'character': 'Sister Angela...   \n",
       "45473  [{'cast_id': 6, 'character': 'Emily Shaw', 'cr...   \n",
       "45474  [{'cast_id': 2, 'character': '', 'credit_id': ...   \n",
       "45475                                                 []   \n",
       "\n",
       "                                                    crew      id  \n",
       "0      [{'credit_id': '52fe4284c3a36847f8024f49', 'de...     862  \n",
       "1      [{'credit_id': '52fe44bfc3a36847f80a7cd1', 'de...    8844  \n",
       "2      [{'credit_id': '52fe466a9251416c75077a89', 'de...   15602  \n",
       "3      [{'credit_id': '52fe44779251416c91011acb', 'de...   31357  \n",
       "4      [{'credit_id': '52fe44959251416c75039ed7', 'de...   11862  \n",
       "...                                                  ...     ...  \n",
       "45471  [{'credit_id': '5894a97d925141426c00818c', 'de...  439050  \n",
       "45472  [{'credit_id': '52fe4af1c3a36847f81e9b15', 'de...  111109  \n",
       "45473  [{'credit_id': '52fe4776c3a368484e0c8387', 'de...   67758  \n",
       "45474  [{'credit_id': '533bccebc3a36844cf0011a7', 'de...  227506  \n",
       "45475  [{'credit_id': '593e676c92514105b702e68e', 'de...  461257  \n",
       "\n",
       "[45476 rows x 3 columns]"
      ]
     },
     "execution_count": 80,
     "metadata": {},
     "output_type": "execute_result"
    }
   ],
   "source": [
    "df_B"
   ]
  },
  {
   "cell_type": "code",
   "execution_count": 81,
   "metadata": {},
   "outputs": [
    {
     "name": "stdout",
     "output_type": "stream",
     "text": [
      "['Tom Hanks', 'Tim Allen', 'Don Rickles', 'Jim Varney', 'Wallace Shawn', 'John Ratzenberger', 'Annie Potts', 'John Morris', 'Erik von Detten', 'Laurie Metcalf', 'R. Lee Ermey', 'Sarah Freeman', 'Penn Jillette']\n"
     ]
    }
   ],
   "source": [
    "#FUNCION PARA TRABAJAR LA COLUMNA CAST\n",
    "\n",
    "# Función para extraer todos los nombres de la columna 'cast'\n",
    "def extract_actor_names(cast_data):\n",
    "    try:\n",
    "        # Usar una expresión regular para buscar todos los patrones de 'name': 'NOMBRE'\n",
    "        names = re.findall(r\"'name': '([^']*)'\", cast_data)\n",
    "        return names if names else None\n",
    "    except TypeError:\n",
    "        return None  # Manejo de errores si el dato no es una cadena\n",
    "\n",
    "# Probar la función con un ejemplo específico\n",
    "row_index = 0  # Reemplaza esto con el índice de la fila que quieres analizar\n",
    "cast_data = df_B['cast'].iloc[row_index]  # Obtener los datos de la fila\n",
    "actor_names = extract_actor_names(cast_data)\n",
    "print(actor_names)"
   ]
  },
  {
   "cell_type": "code",
   "execution_count": 82,
   "metadata": {},
   "outputs": [
    {
     "name": "stdout",
     "output_type": "stream",
     "text": [
      "                                                    cast  \\\n",
      "0      [{'cast_id': 14, 'character': 'Woody (voice)',...   \n",
      "1      [{'cast_id': 1, 'character': 'Alan Parrish', '...   \n",
      "2      [{'cast_id': 2, 'character': 'Max Goldman', 'c...   \n",
      "3      [{'cast_id': 1, 'character': \"Savannah 'Vannah...   \n",
      "4      [{'cast_id': 1, 'character': 'George Banks', '...   \n",
      "...                                                  ...   \n",
      "45471  [{'cast_id': 0, 'character': '', 'credit_id': ...   \n",
      "45472  [{'cast_id': 1002, 'character': 'Sister Angela...   \n",
      "45473  [{'cast_id': 6, 'character': 'Emily Shaw', 'cr...   \n",
      "45474  [{'cast_id': 2, 'character': '', 'credit_id': ...   \n",
      "45475                                                 []   \n",
      "\n",
      "                                             actor_names  \n",
      "0      [Tom Hanks, Tim Allen, Don Rickles, Jim Varney...  \n",
      "1      [Robin Williams, Jonathan Hyde, Kirsten Dunst,...  \n",
      "2      [Walter Matthau, Jack Lemmon, Ann-Margret, Sop...  \n",
      "3      [Whitney Houston, Angela Bassett, Loretta Devi...  \n",
      "4      [Steve Martin, Diane Keaton, Martin Short, Kim...  \n",
      "...                                                  ...  \n",
      "45471        [Leila Hatami, Kourosh Tahami, Elham Korda]  \n",
      "45472  [Angel Aquino, Perry Dizon, Hazel Orencio, Joe...  \n",
      "45473  [Erika Eleniak, Adam Baldwin, Julie du Page, J...  \n",
      "45474  [Iwan Mosschuchin, Nathalie Lissenko, Pavel Pa...  \n",
      "45475                                               None  \n",
      "\n",
      "[45476 rows x 2 columns]\n"
     ]
    }
   ],
   "source": [
    "# Aplicar la función a toda la columna 'cast' y crear una nueva columna 'actor_names'\n",
    "df_B['actor_names'] = df_B['cast'].apply(extract_actor_names)\n",
    "\n",
    "# Mostrar las primeras filas para verificar los resultados\n",
    "print(df_B[['cast', 'actor_names']])"
   ]
  },
  {
   "cell_type": "code",
   "execution_count": 83,
   "metadata": {},
   "outputs": [
    {
     "name": "stdout",
     "output_type": "stream",
     "text": [
      "0        Tom Hanks, Tim Allen, Don Rickles, Jim Varney,...\n",
      "1        Robin Williams, Jonathan Hyde, Kirsten Dunst, ...\n",
      "2        Walter Matthau, Jack Lemmon, Ann-Margret, Soph...\n",
      "3        Whitney Houston, Angela Bassett, Loretta Devin...\n",
      "4        Steve Martin, Diane Keaton, Martin Short, Kimb...\n",
      "                               ...                        \n",
      "45471            Leila Hatami, Kourosh Tahami, Elham Korda\n",
      "45472    Angel Aquino, Perry Dizon, Hazel Orencio, Joel...\n",
      "45473    Erika Eleniak, Adam Baldwin, Julie du Page, Ja...\n",
      "45474    Iwan Mosschuchin, Nathalie Lissenko, Pavel Pav...\n",
      "45475                                                 None\n",
      "Name: actor_names, Length: 45476, dtype: object\n"
     ]
    }
   ],
   "source": [
    "# CONVERSION DE LA LISTA A STRING DE ACTORES CON NORMALIZACIÓN DE ESPACIOS\n",
    "def list_to_string(x):\n",
    "    if isinstance(x, list):\n",
    "        # Strip spaces from each element before joining\n",
    "        return ', '.join([actor.strip() for actor in x])\n",
    "    elif pd.isnull(x):\n",
    "        return x\n",
    "    else:\n",
    "        # Strip spaces if it's a single string\n",
    "        return str(x).strip()\n",
    "\n",
    "# Aplicar la función a la columna 'actor_names'\n",
    "df_B['actor_names'] = df_B['actor_names'].apply(list_to_string)\n",
    "\n",
    "# Verificar el resultado\n",
    "print(df_B['actor_names'])"
   ]
  },
  {
   "cell_type": "code",
   "execution_count": 84,
   "metadata": {},
   "outputs": [
    {
     "name": "stdout",
     "output_type": "stream",
     "text": [
      "John Lasseter\n"
     ]
    }
   ],
   "source": [
    "#FUNCION PARA TRABAJAR LA COLUMNA CREW\n",
    "\n",
    "# Función para extraer el nombre del director\n",
    "def extract_director_name(crew_data):\n",
    "    try:\n",
    "        # Usar una expresión regular para buscar 'Director', 'name': 'NOMBRE'\n",
    "        match = re.search(r\"'Director', 'name': '([^']*)'\", crew_data)\n",
    "        if match:\n",
    "            # Retornar el nombre del director\n",
    "            return match.group(1)\n",
    "        return None  # Retornar None si no se encuentra un director\n",
    "    except TypeError:\n",
    "        return None  # Manejo de errores si el dato no es una cadena\n",
    "\n",
    "# Probar la función con un ejemplo específico\n",
    "row_index = 0  # Reemplaza esto con el índice de la fila que quieres analizar\n",
    "crew_data = df_B['crew'].iloc[0]  # Obtener los datos de la fila\n",
    "director_name = extract_director_name(crew_data)\n",
    "print(director_name)\n",
    "\n"
   ]
  },
  {
   "cell_type": "code",
   "execution_count": 85,
   "metadata": {},
   "outputs": [
    {
     "name": "stdout",
     "output_type": "stream",
     "text": [
      "                                                crew    director_name\n",
      "0  [{'credit_id': '52fe4284c3a36847f8024f49', 'de...    John Lasseter\n",
      "1  [{'credit_id': '52fe44bfc3a36847f80a7cd1', 'de...     Joe Johnston\n",
      "2  [{'credit_id': '52fe466a9251416c75077a89', 'de...    Howard Deutch\n",
      "3  [{'credit_id': '52fe44779251416c91011acb', 'de...  Forest Whitaker\n",
      "4  [{'credit_id': '52fe44959251416c75039ed7', 'de...    Charles Shyer\n"
     ]
    }
   ],
   "source": [
    "# Aplicar la función a toda la columna 'crew' y crear una nueva columna 'director_name'\n",
    "df_B['director_name'] = df_B['crew'].apply(extract_director_name)\n",
    "\n",
    "# Mostrar las primeras filas para verificar los resultados\n",
    "print(df_B[['crew', 'director_name']].head())"
   ]
  },
  {
   "cell_type": "code",
   "execution_count": 86,
   "metadata": {},
   "outputs": [
    {
     "data": {
      "text/plain": [
       "(45476, 5)"
      ]
     },
     "execution_count": 86,
     "metadata": {},
     "output_type": "execute_result"
    }
   ],
   "source": [
    "df_B.shape"
   ]
  },
  {
   "cell_type": "markdown",
   "metadata": {},
   "source": [
    "## 1C. REDUCCION DE DATAFRAMES Y MERGE CSV FINAL"
   ]
  },
  {
   "cell_type": "code",
   "execution_count": 87,
   "metadata": {},
   "outputs": [],
   "source": [
    "df_B=df_B.drop(columns=['cast','crew'])"
   ]
  },
  {
   "cell_type": "code",
   "execution_count": 88,
   "metadata": {},
   "outputs": [],
   "source": [
    "df_B.to_csv('../Datasets/cleaned_crew.csv', index=False)"
   ]
  },
  {
   "cell_type": "code",
   "execution_count": 89,
   "metadata": {},
   "outputs": [],
   "source": [
    "# EN COLUMNA ID convertir valores que no sean numeros a Nan para UNIR dataframes\n",
    "df['id'] = pd.to_numeric(df['id'], errors='coerce')\n",
    "#Eliminar valores Nan \n",
    "df = df.dropna(subset=['id'])"
   ]
  },
  {
   "cell_type": "code",
   "execution_count": 90,
   "metadata": {},
   "outputs": [],
   "source": [
    "# UNIR los dataframe con INNER JOIN por id\n",
    "\n",
    "df_mix= pd.merge(df,df_B, on='id', how='inner')\n"
   ]
  },
  {
   "cell_type": "code",
   "execution_count": 91,
   "metadata": {},
   "outputs": [
    {
     "name": "stdout",
     "output_type": "stream",
     "text": [
      "budget               0.000000\n",
      "id                   0.000000\n",
      "overview             2.070361\n",
      "popularity           0.000000\n",
      "release_date         0.000000\n",
      "revenue              0.000000\n",
      "runtime              0.541242\n",
      "status               0.176014\n",
      "tagline             55.061495\n",
      "title                0.000000\n",
      "vote_average         0.000000\n",
      "vote_count           0.000000\n",
      "return               0.000000\n",
      "release_year         0.000000\n",
      "collection_names    90.105828\n",
      "genre_names          5.245209\n",
      "language_names       8.303448\n",
      "country_names       13.685067\n",
      "actor_names          5.201206\n",
      "director_name        2.215573\n",
      "dtype: float64\n"
     ]
    }
   ],
   "source": [
    "# Porcentajes de nulos por columnas en el dataset final combinado\n",
    "porcentage_nulos = (df_mix.isnull().sum() / len(df_mix)) * 100\n",
    "print(porcentage_nulos)"
   ]
  },
  {
   "cell_type": "markdown",
   "metadata": {},
   "source": [
    "## Eliminacion de nulos asociados a la columna de paises 'country_names' y columnas innecesarias para el modelo"
   ]
  },
  {
   "cell_type": "code",
   "execution_count": 92,
   "metadata": {},
   "outputs": [],
   "source": [
    "df_mix= df_mix.dropna(subset=['country_names'])"
   ]
  },
  {
   "cell_type": "code",
   "execution_count": 93,
   "metadata": {},
   "outputs": [],
   "source": [
    "df_mix=df_mix.drop(columns=['country_names','collection_names','tagline','id','status','runtime'])"
   ]
  },
  {
   "cell_type": "code",
   "execution_count": 94,
   "metadata": {},
   "outputs": [],
   "source": [
    "df_mix.to_csv('../Datasets/cleaned_dataset.csv',index=False)"
   ]
  }
 ],
 "metadata": {
  "kernelspec": {
   "display_name": "Python 3",
   "language": "python",
   "name": "python3"
  },
  "language_info": {
   "codemirror_mode": {
    "name": "ipython",
    "version": 3
   },
   "file_extension": ".py",
   "mimetype": "text/x-python",
   "name": "python",
   "nbconvert_exporter": "python",
   "pygments_lexer": "ipython3",
   "version": "3.10.5"
  }
 },
 "nbformat": 4,
 "nbformat_minor": 2
}
