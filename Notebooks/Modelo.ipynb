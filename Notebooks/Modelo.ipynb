{
 "cells": [
  {
   "cell_type": "markdown",
   "metadata": {},
   "source": [
    "# LIBRERIAS Y DEPENDENCIAS"
   ]
  },
  {
   "cell_type": "code",
   "execution_count": 25,
   "metadata": {},
   "outputs": [],
   "source": [
    "import pandas as pd \n",
    "import numpy as np\n",
    "from sklearn.feature_extraction.text import TfidfVectorizer # --> USADO PARA PROCESAMIENTO DE LENGUAJE, CONVIERTE TXT EN MATRIZ NUMERICA PARA ML\n",
    "from sklearn.metrics.pairwise import cosine_similarity # --> MIDE LA SIMILITUD DE VECTORES FORMADOS A PARTIR DE TEXTO \n",
    "import difflib # --> COMPARA SECUENCIAS Y ENCONTRAR DIFERENCIAS"
   ]
  },
  {
   "cell_type": "markdown",
   "metadata": {},
   "source": [
    "# 3. MODELO DE ML PARA RECOMENDAR PELICULAS "
   ]
  },
  {
   "cell_type": "code",
   "execution_count": 26,
   "metadata": {},
   "outputs": [],
   "source": [
    "df_test= pd.read_csv('../Datasets/df_test_output.csv')"
   ]
  },
  {
   "cell_type": "code",
   "execution_count": 27,
   "metadata": {},
   "outputs": [],
   "source": [
    "# Seleccion de columnas relevantes para el modelo\n",
    "\n",
    "key_columns=['genre_names','actor_names','overview','title']"
   ]
  },
  {
   "cell_type": "code",
   "execution_count": 28,
   "metadata": {},
   "outputs": [],
   "source": [
    "# Conversion de nulos a string vacios\n",
    "\n",
    "for i in key_columns:\n",
    "   df_test[i]= df_test[i].fillna('')"
   ]
  },
  {
   "cell_type": "code",
   "execution_count": 29,
   "metadata": {},
   "outputs": [],
   "source": [
    "# Combinacion de los 4 atributos \n",
    "\n",
    "mix_col=df_test['genre_names']+' '+df_test['actor_names']+' '+df_test['title']+' '+df_test['overview']\n",
    "\n",
    "# Conversion del conjunto a vectores claves\n",
    "vectorizer= TfidfVectorizer()\n",
    "key_vector= vectorizer.fit_transform(mix_col)\n",
    "\n",
    "# Similaridad del coseno scores \n",
    "matriz_simil = cosine_similarity(key_vector)"
   ]
  },
  {
   "cell_type": "code",
   "execution_count": 30,
   "metadata": {},
   "outputs": [
    {
     "name": "stdout",
     "output_type": "stream",
     "text": [
      "peliculas sugeridas para ti: \n",
      "\n",
      "1 . The Jungle Book 2\n",
      "2 . The Secret Life of Pets\n",
      "3 . Pocahontas\n",
      "4 . The Hunchback of Notre Dame\n",
      "5 . Toy Story 3\n"
     ]
    }
   ],
   "source": [
    "# Proporcionar nombre de la pelicula en cuestion\n",
    "nombre_pelicula= input('Ingrese el nombre de la pelicula: ')\n",
    "\n",
    "# LISTA DE PELICULAS\n",
    "lista_total_peliculas= df_test['title'].tolist()\n",
    "\n",
    "# ENCONTRAR LOS TITULOS MAS SIMILARES\n",
    "similares= difflib.get_close_matches(nombre_pelicula, lista_total_peliculas)\n",
    "\n",
    "referencia= similares[0]\n",
    "indice_pelicula = df_test[df_test['title'] == referencia]['Index'].values[0]\n",
    "\n",
    "# lista de peliculas similares por indice\n",
    "valores_simil= list(enumerate(matriz_simil[indice_pelicula]))\n",
    "orden_peliculas_parecidas= sorted(valores_simil, key= lambda x:x[1], reverse= True)\n",
    "\n",
    "print('peliculas sugeridas para ti: \\n')\n",
    "i=1 \n",
    "for movie in orden_peliculas_parecidas:\n",
    "    index= movie[0]\n",
    "    titulo_por_indice= df_test[df_test['Index']== index]['title'].values[0]\n",
    "\n",
    "    if titulo_por_indice.lower() != nombre_pelicula.lower():\n",
    "        print(i, '.', titulo_por_indice)\n",
    "        i += 1\n",
    "\n",
    "    if (i>5):\n",
    "        break      "
   ]
  }
 ],
 "metadata": {
  "kernelspec": {
   "display_name": "Python 3",
   "language": "python",
   "name": "python3"
  },
  "language_info": {
   "codemirror_mode": {
    "name": "ipython",
    "version": 3
   },
   "file_extension": ".py",
   "mimetype": "text/x-python",
   "name": "python",
   "nbconvert_exporter": "python",
   "pygments_lexer": "ipython3",
   "version": "3.10.5"
  }
 },
 "nbformat": 4,
 "nbformat_minor": 2
}
